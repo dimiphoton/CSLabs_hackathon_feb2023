{
 "cells": [
  {
   "cell_type": "code",
   "execution_count": 13,
   "metadata": {},
   "outputs": [],
   "source": [
    "from rdflib import Graph, Literal, Namespace, RDF, URIRef\n",
    "from rdflib.namespace import OWL, RDFS\n",
    "\n",
    "# Define namespaces for the ontology\n",
    "ACT = Namespace(\"http://example.com/ontology/activity#\")\n",
    "PRB = Namespace(\"http://example.com/ontology/problem#\")\n",
    "SOL = Namespace(\"http://example.com/ontology/solution#\")\n",
    "\n",
    "# Create a new graph to hold the ontology\n",
    "g = Graph()\n",
    "\n",
    "# Define the classes and properties in the ontology\n",
    "g.add((ACT.Activity, RDF.type, OWL.Class))\n",
    "g.add((PRB.Problem, RDF.type, OWL.Class))\n",
    "g.add((SOL.Solution, RDF.type, OWL.Class))\n",
    "g.add((ACT.hasSolution, RDF.type, OWL.ObjectProperty))\n",
    "g.add((PRB.isRelatedTo, RDF.type, OWL.ObjectProperty))\n",
    "\n",
    "# Define the individuals in the ontology\n",
    "g.add((ACT.activity1, RDF.type, ACT.Activity))\n",
    "g.add((PRB.problem1, RDF.type, PRB.Problem))\n",
    "g.add((SOL.solution1, RDF.type, SOL.Solution))\n",
    "\n",
    "# Connect the individuals with the appropriate properties\n",
    "g.add((ACT.activity1, ACT.hasSolution, SOL.solution1))\n",
    "g.add((PRB.problem1, PRB.isRelatedTo, ACT.activity1))\n",
    "\n",
    "# Serialize the graph to RDF/XML format\n",
    "with open(\"mygraph.rdf\", \"w\") as f:\n",
    "    f.write(g.serialize(format=\"xml\"))\n"
   ]
  },
  {
   "cell_type": "code",
   "execution_count": 16,
   "metadata": {},
   "outputs": [
    {
     "ename": "SyntaxError",
     "evalue": "unterminated string literal (detected at line 8) (3079457514.py, line 8)",
     "output_type": "error",
     "traceback": [
      "\u001b[0;36m  Cell \u001b[0;32mIn[16], line 8\u001b[0;36m\u001b[0m\n\u001b[0;31m    with open(\"mygraph.rdf\", \"wb as f:\u001b[0m\n\u001b[0m                             ^\u001b[0m\n\u001b[0;31mSyntaxError\u001b[0m\u001b[0;31m:\u001b[0m unterminated string literal (detected at line 8)\n"
     ]
    }
   ],
   "source": [
    "from rdflib import Graph\n",
    "\n",
    "# Load an RDF graph from a file\n",
    "g = Graph()\n",
    "g.parse(\"mygraph.rdf\")\n",
    "\n",
    "# Serialize the graph to RDF/XML format\n",
    "with open(\"mygraph.rdf\", \"w\") as f:\n",
    "    f.write(g.serialize(format=\"xml\"))\n"
   ]
  }
 ],
 "metadata": {
  "kernelspec": {
   "display_name": "hackathon_handi",
   "language": "python",
   "name": "python3"
  },
  "language_info": {
   "codemirror_mode": {
    "name": "ipython",
    "version": 3
   },
   "file_extension": ".py",
   "mimetype": "text/x-python",
   "name": "python",
   "nbconvert_exporter": "python",
   "pygments_lexer": "ipython3",
   "version": "3.10.9"
  },
  "orig_nbformat": 4,
  "vscode": {
   "interpreter": {
    "hash": "40859be0afaebe8c5dd2b39facb918f2aa2a4c586d70b3109469401b9e173a05"
   }
  }
 },
 "nbformat": 4,
 "nbformat_minor": 2
}
